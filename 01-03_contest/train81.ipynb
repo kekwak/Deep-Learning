{
 "cells": [
  {
   "cell_type": "code",
   "execution_count": 27,
   "metadata": {},
   "outputs": [],
   "source": [
    "import pandas as pd\n",
    "import numpy as np\n",
    "\n",
    "import matplotlib.pyplot as plt\n",
    "import seaborn as sns\n",
    "\n",
    "from sklearn.compose import ColumnTransformer\n",
    "from sklearn.preprocessing import OneHotEncoder, StandardScaler\n",
    "from sklearn.model_selection import train_test_split\n",
    "\n",
    "from torch.utils.data import TensorDataset, DataLoader\n",
    "from torch import nn, optim\n",
    "import torch as th"
   ]
  },
  {
   "cell_type": "code",
   "execution_count": 28,
   "metadata": {},
   "outputs": [],
   "source": [
    "seed = 42\n",
    "np.random.seed(seed)\n",
    "th.manual_seed(seed)\n",
    "if th.cuda.is_available():\n",
    "    th.cuda.manual_seed_all(seed)"
   ]
  },
  {
   "cell_type": "code",
   "execution_count": null,
   "metadata": {},
   "outputs": [],
   "source": [
    "data_train = pd.read_csv('./rent-prediction/train.csv')\n",
    "data_test = pd.read_csv('./rent-prediction/test.csv')\n",
    "data_train.head(3)"
   ]
  },
  {
   "cell_type": "code",
   "execution_count": null,
   "metadata": {},
   "outputs": [],
   "source": [
    "data_train.head()"
   ]
  },
  {
   "cell_type": "code",
   "execution_count": null,
   "metadata": {},
   "outputs": [],
   "source": [
    "data_train.isna().sum()"
   ]
  },
  {
   "cell_type": "code",
   "execution_count": null,
   "metadata": {},
   "outputs": [],
   "source": [
    "data_train.shape"
   ]
  },
  {
   "cell_type": "code",
   "execution_count": null,
   "metadata": {},
   "outputs": [],
   "source": [
    "data_train.info()"
   ]
  },
  {
   "cell_type": "code",
   "execution_count": null,
   "metadata": {},
   "outputs": [],
   "source": [
    "data_train.select_dtypes(np.number).min()"
   ]
  },
  {
   "cell_type": "code",
   "execution_count": 35,
   "metadata": {},
   "outputs": [],
   "source": [
    "data_train.loc[data_train['rooms_count'] < 1, 'rooms_count'] = np.nan\n",
    "data_test.loc[data_train['rooms_count'] < 1, 'rooms_count'] = np.nan"
   ]
  },
  {
   "cell_type": "code",
   "execution_count": null,
   "metadata": {},
   "outputs": [],
   "source": [
    "dup_ix = data_train.drop(columns=['ID']).duplicated()\n",
    "data_train[dup_ix]"
   ]
  },
  {
   "cell_type": "code",
   "execution_count": 37,
   "metadata": {},
   "outputs": [],
   "source": [
    "data_train = data_train[~dup_ix]"
   ]
  },
  {
   "cell_type": "code",
   "execution_count": null,
   "metadata": {},
   "outputs": [],
   "source": [
    "sns.heatmap(data_train.isna(), cbar=False, cmap='viridis')\n",
    "plt.show()\n",
    "data_train.isna().sum().sort_values(ascending=False)"
   ]
  },
  {
   "cell_type": "code",
   "execution_count": null,
   "metadata": {},
   "outputs": [],
   "source": [
    "data_train.nunique()"
   ]
  },
  {
   "cell_type": "code",
   "execution_count": 40,
   "metadata": {},
   "outputs": [],
   "source": [
    "drop = data_train.columns[data_train.nunique() == 1]\n",
    "data_train.drop(columns=drop, inplace=True)\n",
    "data_test.drop(columns=drop, inplace=True)"
   ]
  },
  {
   "cell_type": "code",
   "execution_count": null,
   "metadata": {},
   "outputs": [],
   "source": [
    "data_train.nunique()"
   ]
  },
  {
   "cell_type": "code",
   "execution_count": null,
   "metadata": {},
   "outputs": [],
   "source": [
    "data_train.select_dtypes(object).nunique()"
   ]
  },
  {
   "cell_type": "code",
   "execution_count": null,
   "metadata": {},
   "outputs": [],
   "source": [
    "for column in data_train.columns[data_train.nunique() <= 200]:\n",
    "    print(column, data_train[column].unique(), end='\\n'*2+'-'*75+'\\n'*2)"
   ]
  },
  {
   "cell_type": "code",
   "execution_count": 44,
   "metadata": {},
   "outputs": [],
   "source": [
    "for column in data_test.columns:\n",
    "    col = data_train[column]\n",
    "    col_test = data_test[column]\n",
    "    if pd.api.types.is_object_dtype(col):\n",
    "        data_train[column].fillna('unknown11', inplace=True)\n",
    "        data_test[column].fillna('unknown11', inplace=True)\n",
    "    elif pd.api.types.is_numeric_dtype(col):\n",
    "        data_train[column].fillna(col.mean(), inplace=True)\n",
    "        data_test[column].fillna(col_test.mean(), inplace=True)"
   ]
  },
  {
   "cell_type": "code",
   "execution_count": null,
   "metadata": {},
   "outputs": [],
   "source": [
    "data_train['city_district'] = data_train['location'].astype(str) + '_' + data_train['district'].astype(str)\n",
    "data_test['city_district'] = data_test['location'].astype(str) + '_' + data_test['district'].astype(str)\n",
    "\n",
    "global_avg_price_train = data_train['price_per_month'].mean()\n",
    "\n",
    "smoothing = 10\n",
    "city_district_stats = data_train.groupby('city_district')['price_per_month'].agg(['mean', 'count'])\n",
    "\n",
    "city_district_stats['smoothed_avg'] = (\n",
    "    city_district_stats['mean'] * city_district_stats['count'] + global_avg_price_train * smoothing\n",
    ") / (city_district_stats['count'] + smoothing)\n",
    "\n",
    "avg_price_city_district_train = city_district_stats['smoothed_avg']\n",
    "\n",
    "city_stats = data_train.groupby('location')['price_per_month'].agg(['mean', 'count'])\n",
    "city_stats['smoothed_avg'] = (\n",
    "    city_stats['mean'] * city_stats['count'] + global_avg_price_train * smoothing\n",
    ") / (city_stats['count'] + smoothing)\n",
    "avg_price_city_train = city_stats['smoothed_avg']\n",
    "\n",
    "def calculate_avg_price(city, district, avg_price_city_district, avg_price_city, global_avg_price):\n",
    "    city_district = city + '_' + district\n",
    "    if district == 'unknown11':  \n",
    "        return avg_price_city.get(city, global_avg_price)\n",
    "    elif city == 'unknown11':  \n",
    "        return global_avg_price\n",
    "    else:  \n",
    "        return avg_price_city_district.get(city_district, global_avg_price)\n",
    "\n",
    "data_train['avg_price_city_district'] = data_train.apply(\n",
    "    lambda row: calculate_avg_price(\n",
    "        row['location'], row['district'], \n",
    "        avg_price_city_district_train, avg_price_city_train, global_avg_price_train\n",
    "    ), axis=1\n",
    ")\n",
    "\n",
    "data_test['avg_price_city_district'] = data_test.apply(\n",
    "    lambda row: calculate_avg_price(\n",
    "        row['location'], row['district'], \n",
    "        avg_price_city_district_train, avg_price_city_train, global_avg_price_train\n",
    "    ), axis=1\n",
    ")\n",
    "\n",
    "data_train['avg_price_city_district'] = data_train['avg_price_city_district'].fillna(global_avg_price_train)\n",
    "data_test['avg_price_city_district'] = data_test['avg_price_city_district'].fillna(global_avg_price_train)\n",
    "\n",
    "data_train.drop(['city_district'], inplace=True, axis=1)\n",
    "data_test.drop(['city_district'], inplace=True, axis=1)\n",
    "\n",
    "print(data_train.head())\n",
    "print(data_test.head())"
   ]
  },
  {
   "cell_type": "code",
   "execution_count": 46,
   "metadata": {},
   "outputs": [],
   "source": [
    "target = 'price_per_month'"
   ]
  },
  {
   "cell_type": "code",
   "execution_count": 47,
   "metadata": {},
   "outputs": [],
   "source": [
    "X, y = data_train.drop(columns=['ID', target]), data_train[target]\n",
    "X_test_final = data_test.drop(columns=['ID'])"
   ]
  },
  {
   "cell_type": "code",
   "execution_count": 48,
   "metadata": {},
   "outputs": [],
   "source": [
    "numeric_features = X.select_dtypes(include=np.number).columns\n",
    "numeric_transformer = StandardScaler()\n",
    "\n",
    "categorical_features = X.select_dtypes(include=object).columns\n",
    "categorical_transformer = OneHotEncoder(handle_unknown='ignore')\n",
    "\n",
    "preprocessor = ColumnTransformer(\n",
    "    transformers=[\n",
    "        ('num', numeric_transformer, numeric_features),\n",
    "        ('cat', categorical_transformer, categorical_features)\n",
    "    ]\n",
    ")"
   ]
  },
  {
   "cell_type": "code",
   "execution_count": 49,
   "metadata": {},
   "outputs": [],
   "source": [
    "X_train_transformed = preprocessor.fit_transform(X)\n",
    "\n",
    "X_test_final_transformed = preprocessor.transform(X_test_final)"
   ]
  },
  {
   "cell_type": "code",
   "execution_count": null,
   "metadata": {},
   "outputs": [],
   "source": [
    "X_train_transformed.shape"
   ]
  },
  {
   "cell_type": "code",
   "execution_count": null,
   "metadata": {},
   "outputs": [],
   "source": [
    "from sklearn.metrics import r2_score\n",
    "\n",
    "seed = 42\n",
    "np.random.seed(seed)\n",
    "th.manual_seed(seed)\n",
    "if th.cuda.is_available():\n",
    "    th.cuda.manual_seed_all(seed)\n",
    "\n",
    "device = th.device('cuda' if th.cuda.is_available() else 'cpu')\n",
    "print(f'Используется устройство: {device}')\n",
    "\n",
    "n_bagging_models = 6\n",
    "\n",
    "def create_bootstrap_indices(n_samples):\n",
    "    return np.random.choice(n_samples, size=n_samples, replace=True)\n",
    "\n",
    "trained_models = []\n",
    "\n",
    "num_epochs = 2000\n",
    "patience = 40\n",
    "\n",
    "dataset_train = TensorDataset(\n",
    "    th.tensor(X_train_transformed.toarray()).float(),\n",
    "    th.tensor(y.values).float()\n",
    ")\n",
    "\n",
    "n_train = X_train_transformed.shape[0]\n",
    "\n",
    "model = nn.Sequential(\n",
    "    nn.Linear(X_train_transformed.shape[1], 256),\n",
    "    nn.ReLU(),\n",
    "    nn.Linear(256, 128),\n",
    "    nn.ReLU(),\n",
    "    nn.Linear(128, 1)\n",
    ")\n",
    "\n",
    "for i in range(n_bagging_models):\n",
    "    print(f'\\nОбучение модели {i + 1} из {n_bagging_models}')\n",
    "    \n",
    "    bootstrap_indices = create_bootstrap_indices(n_train)\n",
    "    oob_indices = np.setdiff1d(np.arange(n_train), bootstrap_indices)\n",
    "    \n",
    "    X_train_bag = X_train_transformed[bootstrap_indices]\n",
    "    y_train_bag = y.values[bootstrap_indices]\n",
    "    \n",
    "    if len(oob_indices) == 0:\n",
    "        print(\"Все данные включены в бутстрэп-подвыборку. Пропуск модели.\")\n",
    "        continue  \n",
    "    \n",
    "    X_val_oob = X_train_transformed[oob_indices]\n",
    "    y_val_oob = y.values[oob_indices]\n",
    "    \n",
    "    dataset_train_bag = TensorDataset(\n",
    "        th.tensor(X_train_bag.toarray()).float(),\n",
    "        th.tensor(y_train_bag).float()\n",
    "    )\n",
    "    dataloader_train_bag = DataLoader(dataset_train_bag, batch_size=8, shuffle=True)\n",
    "    \n",
    "    dataset_val_oob = TensorDataset(\n",
    "        th.tensor(X_val_oob.toarray()).float(),\n",
    "        th.tensor(y_val_oob).float()\n",
    "    )\n",
    "    dataloader_val_oob = DataLoader(dataset_val_oob, batch_size=8, shuffle=False)\n",
    "    \n",
    "    model = nn.Sequential(\n",
    "        nn.Linear(X_train_transformed.shape[1], 256),\n",
    "        nn.ReLU(),\n",
    "        nn.Linear(256, 256),\n",
    "        nn.ReLU(),\n",
    "        nn.Linear(256, 128),\n",
    "        nn.ReLU(),\n",
    "        nn.Linear(128, 64),\n",
    "        nn.ReLU(),\n",
    "        nn.Linear(64, 64),\n",
    "        nn.ReLU(),\n",
    "        nn.Linear(64, 1),\n",
    "    ).to(device)\n",
    "    \n",
    "    optimizer = optim.Adam(model.parameters(), lr=5e-4)\n",
    "    criterion = nn.MSELoss()\n",
    "    \n",
    "    scheduler = optim.lr_scheduler.ReduceLROnPlateau(optimizer, mode='min', factor=0.1, patience=10, verbose=True)\n",
    "    \n",
    "    best_val_loss = np.inf\n",
    "    best_r2 = -np.inf\n",
    "    epochs_no_improve = 0\n",
    "    best_model_state = None\n",
    "    best_epoch = 0\n",
    "    \n",
    "    for epoch in range(1, num_epochs + 1):\n",
    "        \n",
    "        model.train()\n",
    "        train_losses = []\n",
    "        for X_batch, y_batch in dataloader_train_bag:\n",
    "            X_batch = X_batch.to(device)\n",
    "            y_batch = y_batch.to(device)\n",
    "            \n",
    "            optimizer.zero_grad()\n",
    "            y_pred = model(X_batch).squeeze(dim=1)  \n",
    "            loss = criterion(y_pred, y_batch)\n",
    "            loss.backward()\n",
    "            optimizer.step()\n",
    "            \n",
    "            train_losses.append(loss.item())\n",
    "        \n",
    "        avg_train_loss = np.mean(train_losses)\n",
    "        \n",
    "        \n",
    "        model.eval()\n",
    "        val_losses = []\n",
    "        all_preds = []\n",
    "        all_targets = []\n",
    "        \n",
    "        with th.no_grad():\n",
    "            for X_batch, y_batch in dataloader_val_oob:\n",
    "                X_batch = X_batch.to(device)\n",
    "                y_batch = y_batch.to(device)\n",
    "                \n",
    "                y_pred = model(X_batch).squeeze(dim=1)  \n",
    "                loss = criterion(y_pred, y_batch)\n",
    "                val_losses.append(loss.item())\n",
    "                \n",
    "                all_preds.append(y_pred.cpu().numpy())\n",
    "                all_targets.append(y_batch.cpu().numpy())\n",
    "        \n",
    "        avg_val_loss = np.mean(val_losses)\n",
    "        all_preds = np.concatenate(all_preds)\n",
    "        all_targets = np.concatenate(all_targets)\n",
    "        r2 = r2_score(all_targets, all_preds)\n",
    "        \n",
    "        scheduler.step(avg_val_loss)\n",
    "        \n",
    "        if r2 > best_r2:\n",
    "            best_val_loss = avg_val_loss\n",
    "            best_r2 = r2\n",
    "            epochs_no_improve = 0\n",
    "            best_model_state = model.state_dict()\n",
    "            best_epoch = epoch\n",
    "        else:\n",
    "            epochs_no_improve += 1\n",
    "        \n",
    "        if epoch % 10 == 0 or epoch == 1:\n",
    "            print(f'Epoch {epoch:03d} | Train Loss: {avg_train_loss:.4f} | Val Loss (OOB): {avg_val_loss:.4f} | R2 (OOB): {r2:.4f}')\n",
    "        \n",
    "        if epochs_no_improve >= patience:\n",
    "            print(f'\\nРанняя остановка после {epoch} эпох без улучшений для модели {i + 1}.')\n",
    "            break\n",
    "    \n",
    "    if best_model_state is not None:\n",
    "        model.load_state_dict(best_model_state)\n",
    "        print(f'Лучшая модель {i + 1} загружена. Epoch: {best_epoch} | Val Loss (OOB): {best_val_loss:.4f} | R2 (OOB): {best_r2:.4f}')\n",
    "    \n",
    "    trained_models.append(model)\n",
    "\n",
    "def ensemble_predict_final(models, X_test_final, device, batch_size=8):\n",
    "    test_dataset = TensorDataset(th.tensor(X_test_final.toarray()).float())\n",
    "    test_loader = DataLoader(test_dataset, batch_size=batch_size, shuffle=False)\n",
    "    \n",
    "    ensemble_preds = []\n",
    "    \n",
    "    for X_batch, in test_loader:\n",
    "        X_batch = X_batch.to(device)\n",
    "        \n",
    "        preds = []\n",
    "        for model in models:\n",
    "            model.eval()\n",
    "            with th.no_grad():\n",
    "                y_pred = model(X_batch).squeeze(dim=1)  \n",
    "                preds.append(y_pred.cpu().numpy())\n",
    "        \n",
    "        \n",
    "        avg_pred = np.mean(preds, axis=0)\n",
    "        ensemble_preds.extend(avg_pred)\n",
    "    \n",
    "    return np.array(ensemble_preds)\n",
    "\n",
    "def ensemble_predict(models, dataloader, device):\n",
    "    ensemble_preds = []\n",
    "    all_targets = []\n",
    "    \n",
    "    for X_batch, y_batch in dataloader:\n",
    "        X_batch = X_batch.to(device)\n",
    "        y_batch = y_batch.to(device)\n",
    "        \n",
    "        preds = []\n",
    "        for model in models:\n",
    "            model.eval()\n",
    "            with th.no_grad():\n",
    "                y_pred = model(X_batch).squeeze(dim=1)  \n",
    "                preds.append(y_pred.cpu().numpy())\n",
    "        \n",
    "        avg_pred = np.mean(preds, axis=0)\n",
    "        ensemble_preds.extend(avg_pred)\n",
    "        all_targets.extend(y_batch.cpu().numpy())\n",
    "    \n",
    "    return np.array(ensemble_preds), np.array(all_targets)"
   ]
  },
  {
   "cell_type": "code",
   "execution_count": null,
   "metadata": {},
   "outputs": [],
   "source": []
  },
  {
   "cell_type": "code",
   "execution_count": null,
   "metadata": {},
   "outputs": [],
   "source": [
    "def predict_test(models, X_test_transformed, device):\n",
    "    test_preds = []\n",
    "    test_dataset = TensorDataset(th.tensor(X_test_transformed.toarray()).float())  \n",
    "    dataloader_test = DataLoader(test_dataset, batch_size=8, shuffle=False)\n",
    "    \n",
    "    for X_batch, in dataloader_test:\n",
    "        X_batch = X_batch.to(device)\n",
    "        preds = []\n",
    "        for model in models:\n",
    "            model.eval()\n",
    "            with th.no_grad():\n",
    "                y_pred = model(X_batch).squeeze()\n",
    "                preds.append(y_pred.cpu().numpy())\n",
    "        \n",
    "        avg_pred = np.mean(preds, axis=0)\n",
    "        \n",
    "        if np.isscalar(avg_pred):  \n",
    "            test_preds.append(avg_pred)\n",
    "        else:\n",
    "            test_preds.extend(avg_pred)  \n",
    "    \n",
    "    return np.array(test_preds)\n",
    "\n",
    "test_preds = predict_test(trained_models, X_test_final_transformed, device)\n",
    "\n",
    "submission_df = pd.DataFrame({\n",
    "    'ID': data_test['ID'],\n",
    "    'price_per_month': test_preds\n",
    "})\n",
    "\n",
    "submission_df.to_csv('submission_bagging112.csv', index=False)\n",
    "print('Предсказания сохранены в \"submission_bagging.csv\".')"
   ]
  },
  {
   "cell_type": "code",
   "execution_count": null,
   "metadata": {},
   "outputs": [],
   "source": []
  }
 ],
 "metadata": {
  "kernelspec": {
   "display_name": ".venv",
   "language": "python",
   "name": "python3"
  },
  "language_info": {
   "codemirror_mode": {
    "name": "ipython",
    "version": 3
   },
   "file_extension": ".py",
   "mimetype": "text/x-python",
   "name": "python",
   "nbconvert_exporter": "python",
   "pygments_lexer": "ipython3",
   "version": "3.12.7"
  }
 },
 "nbformat": 4,
 "nbformat_minor": 2
}
