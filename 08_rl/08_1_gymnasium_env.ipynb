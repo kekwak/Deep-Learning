{
 "cells": [
  {
   "cell_type": "markdown",
   "id": "3a564d5f",
   "metadata": {
    "id": "3a564d5f"
   },
   "source": [
    "# Введение в RL и пакет Gymnasium\n",
    "\n",
    "__Автор задач: Блохин Н.В. (NVBlokhin@fa.ru)__\n",
    "\n",
    "Материалы:\n",
    "* https://gymnasium.farama.org/\n",
    "* https://pypi.org/project/ufal.pybox2d/\n",
    "* https://gymnasium.farama.org/tutorials/gymnasium_basics/environment_creation/\n",
    "* https://gymnasium.farama.org/api/spaces/fundamental/\n",
    "* https://gymnasium.farama.org/environments/toy_text/blackjack/"
   ]
  },
  {
   "cell_type": "markdown",
   "id": "c9ecd663",
   "metadata": {
    "id": "c9ecd663"
   },
   "source": [
    "## Задачи для совместного разбора"
   ]
  },
  {
   "cell_type": "markdown",
   "id": "96b79f4f",
   "metadata": {
    "id": "96b79f4f"
   },
   "source": [
    "1\\. Рассмотрите пример создания окружения `gymnasium` и основные этапы взаимодействия с этим окружением.\n",
    "\n",
    "<img src=\"https://gymnasium.farama.org/_images/AE_loop.png\" width=\"300\"/>"
   ]
  },
  {
   "cell_type": "code",
   "execution_count": 1,
   "id": "b1542720",
   "metadata": {},
   "outputs": [],
   "source": [
    "import gymnasium as gym"
   ]
  },
  {
   "cell_type": "code",
   "execution_count": 2,
   "id": "lng6B-85NfYM",
   "metadata": {
    "executionInfo": {
     "elapsed": 2535,
     "status": "ok",
     "timestamp": 1733476809086,
     "user": {
      "displayName": "Никита Блохин",
      "userId": "16402972581398673009"
     },
     "user_tz": -180
    },
    "id": "lng6B-85NfYM"
   },
   "outputs": [],
   "source": [
    "env = gym.make('LunarLander-v3', render_mode='human')\n",
    "\n",
    "def make_action(obs, env):\n",
    "  # тут вы должны исопльзовать состояние\n",
    "  return env.action_space.sample()\n",
    "\n",
    "obs, _ = env.reset()\n",
    "is_done = False\n",
    "rewards = []\n",
    "while not is_done:\n",
    "  action = make_action(obs, env)\n",
    "  obs, reward, terminated, truncated, info = env.step(action)\n",
    "\n",
    "  is_done = terminated or truncated\n",
    "  rewards.append(reward)\n",
    "\n",
    "env.close()"
   ]
  },
  {
   "cell_type": "code",
   "execution_count": 3,
   "id": "Cgm92cGMPNCA",
   "metadata": {
    "colab": {
     "base_uri": "https://localhost:8080/"
    },
    "executionInfo": {
     "elapsed": 234,
     "status": "ok",
     "timestamp": 1733476816398,
     "user": {
      "displayName": "Никита Блохин",
      "userId": "16402972581398673009"
     },
     "user_tz": -180
    },
    "id": "Cgm92cGMPNCA",
    "outputId": "c33ff6e0-6d51-4832-a61a-410e33a591e6"
   },
   "outputs": [
    {
     "data": {
      "text/plain": [
       "np.float64(-110.15982510276616)"
      ]
     },
     "execution_count": 3,
     "metadata": {},
     "output_type": "execute_result"
    }
   ],
   "source": [
    "sum(rewards)"
   ]
  },
  {
   "cell_type": "markdown",
   "id": "4d7b6d63",
   "metadata": {
    "id": "4d7b6d63"
   },
   "source": [
    "## Задачи для самостоятельного решения"
   ]
  },
  {
   "cell_type": "markdown",
   "id": "7f49190d",
   "metadata": {
    "id": "7f49190d"
   },
   "source": [
    "<p class=\"task\" id=\"1\"></p>\n",
    "\n",
    "1\\. Создайте окружение `Blackjack-v1`. Сыграйте `N=10000` игр, выбирая действие случайным образом. Посчитайте и выведите на экран долю выигранных игр.\n",
    "\n",
    "- [ ] Проверено на семинаре"
   ]
  },
  {
   "cell_type": "code",
   "execution_count": 4,
   "id": "b26b1e69",
   "metadata": {},
   "outputs": [],
   "source": [
    "env = gym.make('Blackjack-v1')\n",
    "N = 10000\n",
    "wins = 0\n",
    "\n",
    "for _ in range(N):\n",
    "    obs, _ = env.reset()\n",
    "    done = False\n",
    "    while not done:\n",
    "        action = env.action_space.sample()\n",
    "        obs, reward, terminated, truncated, _ = env.step(action)\n",
    "        done = terminated or truncated\n",
    "    if reward == 1:\n",
    "        wins += 1"
   ]
  },
  {
   "cell_type": "code",
   "execution_count": 5,
   "id": "cf61b626",
   "metadata": {},
   "outputs": [
    {
     "name": "stdout",
     "output_type": "stream",
     "text": [
      "Доля выигранных игр: 0.2813\n"
     ]
    }
   ],
   "source": [
    "win_ratio = wins / N\n",
    "print(f'Доля выигранных игр: {win_ratio}')"
   ]
  },
  {
   "cell_type": "markdown",
   "id": "3e2956c0",
   "metadata": {
    "id": "3e2956c0"
   },
   "source": [
    "<p class=\"task\" id=\"2\"></p>\n",
    "\n",
    "2\\. Создайте окружение `Blackjack-v1`. Предложите стратегию, которая позволит, в среднем, выигрывать чаще, чем случайный выбор действия. Реализуйте эту стратегию и сыграйте `N=10000` игр, выбирая действие согласно этой стратегии. Посчитайте и выведите на экран долю выигранных игр.\n",
    "\n",
    "- [ ] Проверено на семинаре"
   ]
  },
  {
   "cell_type": "code",
   "execution_count": 6,
   "id": "92c4f3ae",
   "metadata": {},
   "outputs": [],
   "source": [
    "env = gym.make('Blackjack-v1')\n",
    "N = 10000\n",
    "wins = 0\n",
    "\n",
    "def strategy(obs):\n",
    "    player_sum, dealer_card, usable_ace = obs\n",
    "    if player_sum < 16:\n",
    "        return 1\n",
    "    else:\n",
    "        return 0\n",
    "\n",
    "for _ in range(N):\n",
    "    obs, _ = env.reset()\n",
    "    done = False\n",
    "    while not done:\n",
    "        action = strategy(obs)\n",
    "        obs, reward, terminated, truncated, _ = env.step(action)\n",
    "        done = terminated or truncated\n",
    "    if reward == 1:\n",
    "        wins += 1"
   ]
  },
  {
   "cell_type": "code",
   "execution_count": 7,
   "id": "c3cc908b",
   "metadata": {},
   "outputs": [
    {
     "name": "stdout",
     "output_type": "stream",
     "text": [
      "Доля выигранных игр: 0.4238\n"
     ]
    }
   ],
   "source": [
    "win_ratio = wins / N\n",
    "print(f'Доля выигранных игр: {win_ratio}')"
   ]
  },
  {
   "cell_type": "markdown",
   "id": "f2698c28",
   "metadata": {
    "id": "f2698c28"
   },
   "source": [
    "<p class=\"task\" id=\"3\"></p>\n",
    "\n",
    "3\\. Создайте окружение для игры в крестики-нолики, реализовав интерфейс `gym.Env`. Решение должно удовлетворять следующим условиям:\n",
    "* для создания пространства состояний используется `spaces.Box`;\n",
    "* для создания пространства действий используется `spaces.MultiDiscrete`;\n",
    "* игра прекращается, если:\n",
    "    - нет возможности сделать ход;\n",
    "    - игрок пытается отметить уже выбранную ячейку.\n",
    "* после каждого хода игрок получает награду:\n",
    "    - 0, если игра не закончена;\n",
    "    - 1, если игрок выиграл;\n",
    "    - -1, если игрок проиграл.\n",
    "* стратегию выбора действия для второго игрока (машины) определите самостоятельно.\n",
    "\n",
    "Стратегия поведения машины является частью окружения и должна быть реализована внутри него. Сделайте все соответствующие переменные и методы приватными (названия всех переменных начинаются с `__`), подчеркнув, что у пользователя не должно быть к ним доступа извне.\n",
    "\n",
    "Сыграйте одну игру, выбирая действия случайным образом. Выведите на экран состояние окружения после каждого хода и итоговую награду пользователя за сессию.\n",
    "\n",
    "- [ ] Проверено на семинаре"
   ]
  },
  {
   "cell_type": "code",
   "execution_count": 8,
   "id": "0f0d6a38",
   "metadata": {},
   "outputs": [],
   "source": [
    "from gymnasium import spaces\n",
    "import numpy as np\n",
    "import random"
   ]
  },
  {
   "cell_type": "code",
   "execution_count": 9,
   "id": "71b347cb",
   "metadata": {},
   "outputs": [],
   "source": [
    "class TicTacToeEnv(gym.Env):\n",
    "    def __init__(self, draw=True):\n",
    "        super(TicTacToeEnv, self).__init__()\n",
    "        self.observation_space = spaces.Box(low=0, high=2, shape=(3, 3), dtype=np.int8)\n",
    "        self.action_space = spaces.MultiDiscrete([3, 3])\n",
    "        self.board = np.zeros((3, 3), dtype=np.int8)\n",
    "        self.done = False\n",
    "        self.draw = draw\n",
    "        self.reward = 0\n",
    "        self.info = {}\n",
    "    \n",
    "    def reset(self):\n",
    "        self.board = np.zeros((3, 3), dtype=np.int8)\n",
    "        self.done = False\n",
    "        self.reward = 0\n",
    "        self.info = {}\n",
    "        return self.board.copy(), self.info\n",
    "    \n",
    "    def step(self, action):\n",
    "        if self.done:\n",
    "            raise ValueError('Игра уже завершена')\n",
    "        \n",
    "        user_row, user_col = action\n",
    "        if self.board[user_row, user_col] != 0:\n",
    "            self.done = True\n",
    "            self.reward = -1\n",
    "            return self.board.copy(), self.reward, self.done, False, self.info\n",
    "        \n",
    "        self.board[user_row, user_col] = 1\n",
    "        if self.check_winner(1):\n",
    "            self.done = True\n",
    "            self.reward = 1\n",
    "            return self.board.copy(), self.reward, self.done, False, self.info\n",
    "        \n",
    "        if self.is_board_full():\n",
    "            self.done = True\n",
    "            self.reward = -1\n",
    "            return self.board.copy(), self.reward, self.done, False, self.info\n",
    "        \n",
    "        machine_move = self.get_machine_move()\n",
    "        if machine_move is not None:\n",
    "            machine_row, machine_col = machine_move\n",
    "            self.board[machine_row, machine_col] = 2\n",
    "            if self.check_winner(2):\n",
    "                self.done = True\n",
    "                self.reward = -1\n",
    "                return self.board.copy(), self.reward, self.done, False, self.info\n",
    "        \n",
    "        if self.is_board_full():\n",
    "            self.done = True\n",
    "            self.reward = -1\n",
    "            return self.board.copy(), self.reward, self.done, False, self.info\n",
    "        \n",
    "        self.reward = 0\n",
    "        return self.board.copy(), self.reward, self.done, False, self.info\n",
    "    \n",
    "    def render(self, mode='human'):\n",
    "        symbol_map = {0: ' ', 1: 'X', 2: 'O'}\n",
    "        if self.draw:\n",
    "            print('-'*13)\n",
    "        for row in self.board:\n",
    "            row_symbols = [symbol_map[cell] for cell in row]\n",
    "            if self.draw:\n",
    "                print(f'| {' | '.join(row_symbols)} |')\n",
    "                print('-'*13)\n",
    "    \n",
    "    def check_winner(self, player):\n",
    "        for i in range(3):\n",
    "            if np.all(self.board[i, :] == player):\n",
    "                return True\n",
    "            if np.all(self.board[:, i] == player):\n",
    "                return True\n",
    "        if self.board[0, 0] == player and self.board[1, 1] == player and self.board[2, 2] == player:\n",
    "            return True\n",
    "        if self.board[0, 2] == player and self.board[1, 1] == player and self.board[2, 0] == player:\n",
    "            return True\n",
    "        return False\n",
    "    \n",
    "    def is_board_full(self):\n",
    "        return not np.any(self.board == 0)\n",
    "    \n",
    "    def get_machine_move(self):\n",
    "        available_actions = self.get_available_actions()\n",
    "        if not available_actions:\n",
    "            return None\n",
    "        return random.choice(available_actions)\n",
    "    \n",
    "    def get_user_move_strategy(self):\n",
    "        return self.action_space.sample()\n",
    "    \n",
    "    def get_available_actions(self):\n",
    "        return list(zip(*np.where(self.board == 0)))"
   ]
  },
  {
   "cell_type": "code",
   "execution_count": 10,
   "id": "5a10bc78",
   "metadata": {},
   "outputs": [],
   "source": [
    "env = TicTacToeEnv()\n",
    "observation, info = env.reset()\n",
    "done = False\n",
    "total_reward = 0\n",
    "episode = 0"
   ]
  },
  {
   "cell_type": "code",
   "execution_count": 11,
   "id": "c22c84ea",
   "metadata": {},
   "outputs": [
    {
     "name": "stdout",
     "output_type": "stream",
     "text": [
      "Начальное состояние:\n",
      "-------------\n",
      "|   |   |   |\n",
      "-------------\n",
      "|   |   |   |\n",
      "-------------\n",
      "|   |   |   |\n",
      "-------------\n"
     ]
    }
   ],
   "source": [
    "print('Начальное состояние:')\n",
    "env.render(mode='human')"
   ]
  },
  {
   "cell_type": "code",
   "execution_count": 12,
   "id": "696a708b",
   "metadata": {},
   "outputs": [
    {
     "name": "stdout",
     "output_type": "stream",
     "text": [
      "Ход пользователя: [2 0]\n",
      "-------------\n",
      "|   |   |   |\n",
      "-------------\n",
      "|   | O |   |\n",
      "-------------\n",
      "| X |   |   |\n",
      "-------------\n",
      "Ход пользователя: [0 1]\n",
      "-------------\n",
      "|   | X | O |\n",
      "-------------\n",
      "|   | O |   |\n",
      "-------------\n",
      "| X |   |   |\n",
      "-------------\n",
      "Ход пользователя: [1 0]\n",
      "-------------\n",
      "|   | X | O |\n",
      "-------------\n",
      "| X | O |   |\n",
      "-------------\n",
      "| X | O |   |\n",
      "-------------\n",
      "Ход пользователя: [0 0]\n",
      "-------------\n",
      "| X | X | O |\n",
      "-------------\n",
      "| X | O |   |\n",
      "-------------\n",
      "| X | O |   |\n",
      "-------------\n",
      "Пользователь выиграл!\n",
      "Итоговая награда пользователя: 1\n"
     ]
    }
   ],
   "source": [
    "while not done:\n",
    "    action = env.get_user_move_strategy()\n",
    "    print(f'Ход пользователя: {action}')\n",
    "    \n",
    "    observation, reward, done, truncated, info = env.step(action)\n",
    "    env.render()\n",
    "    \n",
    "    total_reward += reward\n",
    "    episode += 1\n",
    "    \n",
    "    if done:\n",
    "        if reward == 1:\n",
    "            print('Пользователь выиграл!')\n",
    "        elif reward == -1:\n",
    "            print('Пользователь проиграл!')\n",
    "        else:\n",
    "            print('Ничья!')\n",
    "\n",
    "print(f'Итоговая награда пользователя: {total_reward}')"
   ]
  },
  {
   "cell_type": "markdown",
   "id": "cdcd8fa6",
   "metadata": {
    "id": "cdcd8fa6"
   },
   "source": [
    "<p class=\"task\" id=\"4\"></p>\n",
    "\n",
    "4\\. Предложите стратегию (в виде алгоритма без использования методов машинного обучения), которая позволит, в среднем, выигрывать в крестики-нолики чаще, чем случайный выбор действия. Реализуйте эту стратегию и сыграйте игру, выбирая действия согласно этой стратегии. Выведите на экран состояние окружения после каждого хода и итоговую награду пользователя за сессию.\n",
    "\n",
    "- [ ] Проверено на семинаре"
   ]
  },
  {
   "cell_type": "code",
   "execution_count": 13,
   "id": "5c5935a4",
   "metadata": {},
   "outputs": [],
   "source": [
    "from tqdm import tqdm"
   ]
  },
  {
   "cell_type": "code",
   "execution_count": 14,
   "id": "f4f6675a",
   "metadata": {},
   "outputs": [],
   "source": [
    "def get_user_move_strategy(self):\n",
    "    for move in self.get_available_actions():\n",
    "        row, col = move\n",
    "        self.board[row, col] = 1\n",
    "        if self.check_winner(1):\n",
    "            self.board[row, col] = 0\n",
    "            return (row, col)\n",
    "        self.board[row, col] = 0\n",
    "\n",
    "    for move in self.get_available_actions():\n",
    "        row, col = move\n",
    "        self.board[row, col] = 2\n",
    "        if self.check_winner(2):\n",
    "            self.board[row, col] = 0\n",
    "            return (row, col)\n",
    "        self.board[row, col] = 0\n",
    "\n",
    "    if self.board[1, 1] == 0:\n",
    "        return (1, 1)\n",
    "\n",
    "    corners = [(0,0), (0,2), (2,0), (2,2)]\n",
    "    available_corners = [corner for corner in corners if self.board[corner] == 0]\n",
    "    if available_corners:\n",
    "        return random.choice(available_corners)\n",
    "\n",
    "    sides = [(0,1), (1,0), (1,2), (2,1)]\n",
    "    available_sides = [side for side in sides if self.board[side] == 0]\n",
    "    if available_sides:\n",
    "        return random.choice(available_sides)\n",
    "\n",
    "    return None"
   ]
  },
  {
   "cell_type": "code",
   "execution_count": 15,
   "id": "7a6745d1",
   "metadata": {},
   "outputs": [],
   "source": [
    "env = TicTacToeEnv()\n",
    "env.get_user_move_strategy = get_user_move_strategy.__get__(env, TicTacToeEnv)\n",
    "observation, info = env.reset()\n",
    "done = False\n",
    "total_reward = 0\n",
    "episode = 0"
   ]
  },
  {
   "cell_type": "code",
   "execution_count": 16,
   "id": "ebae6db2",
   "metadata": {},
   "outputs": [
    {
     "name": "stdout",
     "output_type": "stream",
     "text": [
      "Ход пользователя: (1, 1)\n",
      "-------------\n",
      "|   |   |   |\n",
      "-------------\n",
      "|   | X |   |\n",
      "-------------\n",
      "| O |   |   |\n",
      "-------------\n",
      "Ход пользователя: (2, 2)\n",
      "-------------\n",
      "|   |   |   |\n",
      "-------------\n",
      "|   | X |   |\n",
      "-------------\n",
      "| O | O | X |\n",
      "-------------\n",
      "Ход пользователя: (np.int64(0), np.int64(0))\n",
      "-------------\n",
      "| X |   |   |\n",
      "-------------\n",
      "|   | X |   |\n",
      "-------------\n",
      "| O | O | X |\n",
      "-------------\n",
      "Пользователь выиграл!\n",
      "Итоговая награда пользователя: 1\n"
     ]
    }
   ],
   "source": [
    "while not done:\n",
    "    action = env.get_user_move_strategy()\n",
    "    print(f'Ход пользователя: {action}')\n",
    "    \n",
    "    observation, reward, done, truncated, info = env.step(action)\n",
    "    env.render()\n",
    "    \n",
    "    total_reward += reward\n",
    "    episode += 1\n",
    "    \n",
    "    if done:\n",
    "        if reward == 1:\n",
    "            print('Пользователь выиграл!')\n",
    "        elif reward == -1:\n",
    "            print('Пользователь проиграл!')\n",
    "        else:\n",
    "            print('Ничья!')\n",
    "\n",
    "print(f'Итоговая награда пользователя: {total_reward}')"
   ]
  },
  {
   "cell_type": "code",
   "execution_count": 17,
   "id": "67fa3a7e",
   "metadata": {},
   "outputs": [
    {
     "name": "stderr",
     "output_type": "stream",
     "text": [
      "100%|██████████| 10000/10000 [00:08<00:00, 1140.88it/s]\n"
     ]
    }
   ],
   "source": [
    "N = 10000\n",
    "data = {-1: 0, 1: 0}\n",
    "env = TicTacToeEnv(draw=False)\n",
    "env.get_user_move_strategy = get_user_move_strategy.__get__(env, TicTacToeEnv)\n",
    "for i in tqdm(range(N)):\n",
    "    env.reset()\n",
    "\n",
    "    observation, info = env.reset()\n",
    "    done = False\n",
    "    total_reward = 0\n",
    "    episode = 0\n",
    "    \n",
    "    while not done:\n",
    "        action = env.get_user_move_strategy()\n",
    "        \n",
    "        observation, reward, done, truncated, info = env.step(action)\n",
    "        env.render()\n",
    "        \n",
    "        total_reward += reward\n",
    "        episode += 1\n",
    "        \n",
    "        if done:\n",
    "            data[reward] += 1"
   ]
  },
  {
   "cell_type": "code",
   "execution_count": 18,
   "id": "987b6ca9",
   "metadata": {},
   "outputs": [
    {
     "name": "stdout",
     "output_type": "stream",
     "text": [
      "Игры, закончившиеся с результатом проигрыш: 398 (0.0398%)\n",
      "Игры, закончившиеся с результатом выигрыш: 9602 (0.9602%)\n"
     ]
    }
   ],
   "source": [
    "rename_map = {-1: 'проигрыш', 1: 'выигрыш'}\n",
    "for k, v in data.items():\n",
    "    print(f'Игры, закончившиеся с результатом {rename_map[k]}: {v} ({v/N}%)')"
   ]
  },
  {
   "cell_type": "markdown",
   "id": "0992c961",
   "metadata": {
    "id": "0992c961"
   },
   "source": [
    "<p class=\"task\" id=\"5\"></p>\n",
    "\n",
    "5\\. Создайте окружение `MountainCar-v0`. Проиграйте 10 эпизодов и сохраните на диск файл с записью каждого пятого эпизода. Для записи видео воспользуйтесь обёрткой `RecordVideo`. Вставьте скриншот, на котором видно, что файлы были созданы.\n",
    "\n",
    "- [ ] Проверено на семинаре"
   ]
  },
  {
   "cell_type": "code",
   "execution_count": 19,
   "id": "75ef98b7",
   "metadata": {},
   "outputs": [],
   "source": [
    "from gymnasium.wrappers import RecordVideo"
   ]
  },
  {
   "cell_type": "code",
   "execution_count": 23,
   "id": "e86f050c",
   "metadata": {},
   "outputs": [],
   "source": [
    "env = gym.make('MountainCar-v0', render_mode='rgb_array')\n",
    "env = RecordVideo(env, video_folder='./trash', episode_trigger=lambda x: (x+1) % 5 == 0)"
   ]
  },
  {
   "cell_type": "code",
   "execution_count": 21,
   "id": "bf3cb831",
   "metadata": {},
   "outputs": [],
   "source": [
    "for episode in range(10):\n",
    "    obs, _ = env.reset()\n",
    "    done = False\n",
    "    while not done:\n",
    "        action = env.action_space.sample()\n",
    "        obs, reward, done, truncated, info = env.step(action)\n",
    "        done = done or truncated\n",
    "env.close()"
   ]
  },
  {
   "attachments": {
    "Снимок экрана 2024-12-12 в 10.54.23.png": {
     "image/png": "[encoded data removed]"
    }
   },
   "cell_type": "markdown",
   "id": "77a78b65",
   "metadata": {},
   "source": [
    "![Снимок экрана 2024-12-12 в 10.54.23.png](<attachment:Снимок экрана 2024-12-12 в 10.54.23.png>)"
   ]
  },
  {
   "cell_type": "code",
   "execution_count": null,
   "id": "c6859c76",
   "metadata": {},
   "outputs": [],
   "source": []
  }
 ],
 "metadata": {
  "colab": {
   "provenance": []
  },
  "kernelspec": {
   "display_name": "base",
   "language": "python",
   "name": "python3"
  },
  "language_info": {
   "codemirror_mode": {
    "name": "ipython",
    "version": 3
   },
   "file_extension": ".py",
   "mimetype": "text/x-python",
   "name": "python",
   "nbconvert_exporter": "python",
   "pygments_lexer": "ipython3",
   "version": "3.12.2"
  }
 },
 "nbformat": 4,
 "nbformat_minor": 5
}
