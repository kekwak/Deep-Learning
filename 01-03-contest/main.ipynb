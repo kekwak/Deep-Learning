{
 "cells": [
  {
   "cell_type": "code",
   "execution_count": 1,
   "metadata": {},
   "outputs": [],
   "source": [
    "import pandas as pd\n",
    "import numpy as np\n",
    "\n",
    "import matplotlib.pyplot as plt\n",
    "import seaborn as sns\n",
    "\n",
    "from sklearn.compose import ColumnTransformer\n",
    "from sklearn.preprocessing import OneHotEncoder, StandardScaler\n",
    "from sklearn.model_selection import train_test_split\n",
    "\n",
    "from sklearn.metrics import r2_score\n",
    "from torch.utils.data import TensorDataset, DataLoader\n",
    "from torch import nn, optim\n",
    "import torch as th"
   ]
  },
  {
   "cell_type": "code",
   "execution_count": 2,
   "metadata": {},
   "outputs": [],
   "source": [
    "seed = 42\n",
    "np.random.seed(seed)\n",
    "th.manual_seed(seed)\n",
    "if th.cuda.is_available():\n",
    "    th.cuda.manual_seed_all(seed)"
   ]
  },
  {
   "cell_type": "code",
   "execution_count": 3,
   "metadata": {},
   "outputs": [
    {
     "data": {
      "text/html": [
       "<div>\n",
       "<style scoped>\n",
       "    .dataframe tbody tr th:only-of-type {\n",
       "        vertical-align: middle;\n",
       "    }\n",
       "\n",
       "    .dataframe tbody tr th {\n",
       "        vertical-align: top;\n",
       "    }\n",
       "\n",
       "    .dataframe thead th {\n",
       "        text-align: right;\n",
       "    }\n",
       "</style>\n",
       "<table border=\"1\" class=\"dataframe\">\n",
       "  <thead>\n",
       "    <tr style=\"text-align: right;\">\n",
       "      <th></th>\n",
       "      <th>author</th>\n",
       "      <th>author_type</th>\n",
       "      <th>location</th>\n",
       "      <th>deal_type</th>\n",
       "      <th>accommodation_type</th>\n",
       "      <th>floor</th>\n",
       "      <th>floors_count</th>\n",
       "      <th>rooms_count</th>\n",
       "      <th>total_meters</th>\n",
       "      <th>price_per_month</th>\n",
       "      <th>commissions</th>\n",
       "      <th>district</th>\n",
       "      <th>street</th>\n",
       "      <th>house_number</th>\n",
       "      <th>underground</th>\n",
       "      <th>ID</th>\n",
       "    </tr>\n",
       "  </thead>\n",
       "  <tbody>\n",
       "    <tr>\n",
       "      <th>0</th>\n",
       "      <td>67квартир</td>\n",
       "      <td>real_estate_agent</td>\n",
       "      <td>Смоленск</td>\n",
       "      <td>rent</td>\n",
       "      <td>flat</td>\n",
       "      <td>15.0</td>\n",
       "      <td>19.0</td>\n",
       "      <td>1.0</td>\n",
       "      <td>42.0</td>\n",
       "      <td>50000</td>\n",
       "      <td>0.0</td>\n",
       "      <td>Ленинский</td>\n",
       "      <td>Ново-Чернушенский переулок</td>\n",
       "      <td>5</td>\n",
       "      <td>NaN</td>\n",
       "      <td>1</td>\n",
       "    </tr>\n",
       "    <tr>\n",
       "      <th>1</th>\n",
       "      <td>Олег Тарасов</td>\n",
       "      <td>NaN</td>\n",
       "      <td>Подольск</td>\n",
       "      <td>rent</td>\n",
       "      <td>flat</td>\n",
       "      <td>1.0</td>\n",
       "      <td>3.0</td>\n",
       "      <td>1.0</td>\n",
       "      <td>37.0</td>\n",
       "      <td>38000</td>\n",
       "      <td>0.0</td>\n",
       "      <td>мкр. Силикатная</td>\n",
       "      <td>проезд Авиаторов</td>\n",
       "      <td>NaN</td>\n",
       "      <td>NaN</td>\n",
       "      <td>2</td>\n",
       "    </tr>\n",
       "    <tr>\n",
       "      <th>2</th>\n",
       "      <td>АЛЬФА</td>\n",
       "      <td>real_estate_agent</td>\n",
       "      <td>Иваново</td>\n",
       "      <td>rent</td>\n",
       "      <td>flat</td>\n",
       "      <td>15.0</td>\n",
       "      <td>32.0</td>\n",
       "      <td>2.0</td>\n",
       "      <td>63.0</td>\n",
       "      <td>280000</td>\n",
       "      <td>0.0</td>\n",
       "      <td>Дорогомилово</td>\n",
       "      <td>Поклонная</td>\n",
       "      <td>9</td>\n",
       "      <td>Поклонная</td>\n",
       "      <td>3</td>\n",
       "    </tr>\n",
       "  </tbody>\n",
       "</table>\n",
       "</div>"
      ],
      "text/plain": [
       "         author        author_type  location deal_type accommodation_type  \\\n",
       "0     67квартир  real_estate_agent  Смоленск      rent               flat   \n",
       "1  Олег Тарасов                NaN  Подольск      rent               flat   \n",
       "2         АЛЬФА  real_estate_agent   Иваново      rent               flat   \n",
       "\n",
       "   floor  floors_count  rooms_count  total_meters  price_per_month  \\\n",
       "0   15.0          19.0          1.0          42.0            50000   \n",
       "1    1.0           3.0          1.0          37.0            38000   \n",
       "2   15.0          32.0          2.0          63.0           280000   \n",
       "\n",
       "   commissions         district                      street house_number  \\\n",
       "0          0.0        Ленинский  Ново-Чернушенский переулок            5   \n",
       "1          0.0  мкр. Силикатная            проезд Авиаторов          NaN   \n",
       "2          0.0     Дорогомилово                  Поклонная             9   \n",
       "\n",
       "  underground  ID  \n",
       "0         NaN   1  \n",
       "1         NaN   2  \n",
       "2   Поклонная   3  "
      ]
     },
     "execution_count": 3,
     "metadata": {},
     "output_type": "execute_result"
    }
   ],
   "source": [
    "data_train = pd.read_csv('./rent-prediction/train.csv')\n",
    "data_test = pd.read_csv('./rent-prediction/test.csv')\n",
    "data_train.head(3)"
   ]
  },
  {
   "cell_type": "code",
   "execution_count": 4,
   "metadata": {},
   "outputs": [
    {
     "data": {
      "text/plain": [
       "(2464, 16)"
      ]
     },
     "execution_count": 4,
     "metadata": {},
     "output_type": "execute_result"
    }
   ],
   "source": [
    "data_train.shape"
   ]
  },
  {
   "cell_type": "code",
   "execution_count": 5,
   "metadata": {},
   "outputs": [
    {
     "name": "stdout",
     "output_type": "stream",
     "text": [
      "<class 'pandas.core.frame.DataFrame'>\n",
      "RangeIndex: 2464 entries, 0 to 2463\n",
      "Data columns (total 16 columns):\n",
      " #   Column              Non-Null Count  Dtype  \n",
      "---  ------              --------------  -----  \n",
      " 0   author              2337 non-null   object \n",
      " 1   author_type         2334 non-null   object \n",
      " 2   location            2339 non-null   object \n",
      " 3   deal_type           2339 non-null   object \n",
      " 4   accommodation_type  2340 non-null   object \n",
      " 5   floor               2338 non-null   float64\n",
      " 6   floors_count        2334 non-null   float64\n",
      " 7   rooms_count         2344 non-null   float64\n",
      " 8   total_meters        2335 non-null   float64\n",
      " 9   price_per_month     2464 non-null   int64  \n",
      " 10  commissions         2340 non-null   float64\n",
      " 11  district            1832 non-null   object \n",
      " 12  street              2329 non-null   object \n",
      " 13  house_number        2332 non-null   object \n",
      " 14  underground         1702 non-null   object \n",
      " 15  ID                  2464 non-null   int64  \n",
      "dtypes: float64(5), int64(2), object(9)\n",
      "memory usage: 308.1+ KB\n"
     ]
    }
   ],
   "source": [
    "data_train.info()"
   ]
  },
  {
   "cell_type": "code",
   "execution_count": 6,
   "metadata": {},
   "outputs": [
    {
     "data": {
      "text/plain": [
       "floor                 1.0\n",
       "floors_count          1.0\n",
       "rooms_count          -1.0\n",
       "total_meters          5.8\n",
       "price_per_month    7000.0\n",
       "commissions           0.0\n",
       "ID                    1.0\n",
       "dtype: float64"
      ]
     },
     "execution_count": 6,
     "metadata": {},
     "output_type": "execute_result"
    }
   ],
   "source": [
    "data_train.select_dtypes(np.number).min()"
   ]
  },
  {
   "cell_type": "code",
   "execution_count": 7,
   "metadata": {},
   "outputs": [],
   "source": [
    "data_train.loc[data_train['rooms_count'] < 1, 'rooms_count'] = np.nan\n",
    "data_test.loc[data_train['rooms_count'] < 1, 'rooms_count'] = np.nan"
   ]
  },
  {
   "cell_type": "code",
   "execution_count": 8,
   "metadata": {},
   "outputs": [
    {
     "data": {
      "text/html": [
       "<div>\n",
       "<style scoped>\n",
       "    .dataframe tbody tr th:only-of-type {\n",
       "        vertical-align: middle;\n",
       "    }\n",
       "\n",
       "    .dataframe tbody tr th {\n",
       "        vertical-align: top;\n",
       "    }\n",
       "\n",
       "    .dataframe thead th {\n",
       "        text-align: right;\n",
       "    }\n",
       "</style>\n",
       "<table border=\"1\" class=\"dataframe\">\n",
       "  <thead>\n",
       "    <tr style=\"text-align: right;\">\n",
       "      <th></th>\n",
       "      <th>author</th>\n",
       "      <th>author_type</th>\n",
       "      <th>location</th>\n",
       "      <th>deal_type</th>\n",
       "      <th>accommodation_type</th>\n",
       "      <th>floor</th>\n",
       "      <th>floors_count</th>\n",
       "      <th>rooms_count</th>\n",
       "      <th>total_meters</th>\n",
       "      <th>price_per_month</th>\n",
       "      <th>commissions</th>\n",
       "      <th>district</th>\n",
       "      <th>street</th>\n",
       "      <th>house_number</th>\n",
       "      <th>underground</th>\n",
       "      <th>ID</th>\n",
       "    </tr>\n",
       "  </thead>\n",
       "  <tbody>\n",
       "    <tr>\n",
       "      <th>1910</th>\n",
       "      <td>АН Екатерины Бакунц</td>\n",
       "      <td>real_estate_agent</td>\n",
       "      <td>Калуга</td>\n",
       "      <td>rent</td>\n",
       "      <td>flat</td>\n",
       "      <td>3.0</td>\n",
       "      <td>3.0</td>\n",
       "      <td>1.0</td>\n",
       "      <td>32.2</td>\n",
       "      <td>30000</td>\n",
       "      <td>0.0</td>\n",
       "      <td>мкр. Кошелев</td>\n",
       "      <td>Петра Тарасова</td>\n",
       "      <td>17</td>\n",
       "      <td>NaN</td>\n",
       "      <td>1911</td>\n",
       "    </tr>\n",
       "    <tr>\n",
       "      <th>1962</th>\n",
       "      <td>АН Екатерины Бакунц</td>\n",
       "      <td>real_estate_agent</td>\n",
       "      <td>Калуга</td>\n",
       "      <td>rent</td>\n",
       "      <td>flat</td>\n",
       "      <td>4.0</td>\n",
       "      <td>9.0</td>\n",
       "      <td>2.0</td>\n",
       "      <td>62.2</td>\n",
       "      <td>35000</td>\n",
       "      <td>0.0</td>\n",
       "      <td>Московский</td>\n",
       "      <td>Пухова</td>\n",
       "      <td>23а</td>\n",
       "      <td>NaN</td>\n",
       "      <td>1963</td>\n",
       "    </tr>\n",
       "    <tr>\n",
       "      <th>2029</th>\n",
       "      <td>АН Екатерины Бакунц</td>\n",
       "      <td>real_estate_agent</td>\n",
       "      <td>Калуга</td>\n",
       "      <td>rent</td>\n",
       "      <td>flat</td>\n",
       "      <td>6.0</td>\n",
       "      <td>9.0</td>\n",
       "      <td>1.0</td>\n",
       "      <td>36.0</td>\n",
       "      <td>26000</td>\n",
       "      <td>0.0</td>\n",
       "      <td>Ленинский</td>\n",
       "      <td>Кирова</td>\n",
       "      <td>78</td>\n",
       "      <td>NaN</td>\n",
       "      <td>2030</td>\n",
       "    </tr>\n",
       "  </tbody>\n",
       "</table>\n",
       "</div>"
      ],
      "text/plain": [
       "                   author        author_type location deal_type  \\\n",
       "1910  АН Екатерины Бакунц  real_estate_agent   Калуга      rent   \n",
       "1962  АН Екатерины Бакунц  real_estate_agent   Калуга      rent   \n",
       "2029  АН Екатерины Бакунц  real_estate_agent   Калуга      rent   \n",
       "\n",
       "     accommodation_type  floor  floors_count  rooms_count  total_meters  \\\n",
       "1910               flat    3.0           3.0          1.0          32.2   \n",
       "1962               flat    4.0           9.0          2.0          62.2   \n",
       "2029               flat    6.0           9.0          1.0          36.0   \n",
       "\n",
       "      price_per_month  commissions      district           street  \\\n",
       "1910            30000          0.0  мкр. Кошелев   Петра Тарасова   \n",
       "1962            35000          0.0    Московский           Пухова   \n",
       "2029            26000          0.0     Ленинский           Кирова   \n",
       "\n",
       "     house_number underground    ID  \n",
       "1910           17         NaN  1911  \n",
       "1962          23а         NaN  1963  \n",
       "2029           78         NaN  2030  "
      ]
     },
     "execution_count": 8,
     "metadata": {},
     "output_type": "execute_result"
    }
   ],
   "source": [
    "dup_ix = data_train.drop(columns=['ID']).duplicated()\n",
    "data_train[dup_ix]"
   ]
  },
  {
   "cell_type": "code",
   "execution_count": 9,
   "metadata": {},
   "outputs": [],
   "source": [
    "data_train = data_train[~dup_ix]"
   ]
  },
  {
   "cell_type": "code",
   "execution_count": 10,
   "metadata": {},
   "outputs": [
    {
     "data": {
      "image/png": "[encoded data removed]",
      "text/plain": [
       "<Figure size 640x480 with 1 Axes>"
      ]
     },
     "metadata": {},
     "output_type": "display_data"
    },
    {
     "data": {
      "text/plain": [
       "underground           759\n",
       "district              632\n",
       "rooms_count           193\n",
       "street                135\n",
       "house_number          132\n",
       "author_type           130\n",
       "floors_count          130\n",
       "total_meters          129\n",
       "author                127\n",
       "floor                 126\n",
       "location              125\n",
       "deal_type             125\n",
       "accommodation_type    124\n",
       "commissions           124\n",
       "price_per_month         0\n",
       "ID                      0\n",
       "dtype: int64"
      ]
     },
     "execution_count": 10,
     "metadata": {},
     "output_type": "execute_result"
    }
   ],
   "source": [
    "sns.heatmap(data_train.isna(), cbar=False, cmap='viridis')\n",
    "plt.show()\n",
    "data_train.isna().sum().sort_values(ascending=False)"
   ]
  },
  {
   "cell_type": "code",
   "execution_count": 11,
   "metadata": {},
   "outputs": [
    {
     "data": {
      "text/plain": [
       "author                 897\n",
       "author_type              5\n",
       "location                15\n",
       "deal_type                1\n",
       "accommodation_type       1\n",
       "floor                   49\n",
       "floors_count            56\n",
       "rooms_count              5\n",
       "total_meters           430\n",
       "price_per_month        254\n",
       "commissions              1\n",
       "district               175\n",
       "street                 922\n",
       "house_number           667\n",
       "underground            214\n",
       "ID                    2461\n",
       "dtype: int64"
      ]
     },
     "execution_count": 11,
     "metadata": {},
     "output_type": "execute_result"
    }
   ],
   "source": [
    "data_train.nunique()"
   ]
  },
  {
   "cell_type": "code",
   "execution_count": 12,
   "metadata": {},
   "outputs": [],
   "source": [
    "drop = data_train.columns[data_train.nunique() == 1]\n",
    "data_train.drop(columns=drop, inplace=True)\n",
    "data_test.drop(columns=drop, inplace=True)\n",
    "# data_train.drop(columns=['ID'], inplace=True)\n",
    "# data_test.drop(columns=['ID'], inplace=True)"
   ]
  },
  {
   "cell_type": "code",
   "execution_count": 13,
   "metadata": {},
   "outputs": [
    {
     "data": {
      "text/plain": [
       "author              897\n",
       "author_type           5\n",
       "location             15\n",
       "floor                49\n",
       "floors_count         56\n",
       "rooms_count           5\n",
       "total_meters        430\n",
       "price_per_month     254\n",
       "district            175\n",
       "street              922\n",
       "house_number        667\n",
       "underground         214\n",
       "ID                 2461\n",
       "dtype: int64"
      ]
     },
     "execution_count": 13,
     "metadata": {},
     "output_type": "execute_result"
    }
   ],
   "source": [
    "data_train.nunique()"
   ]
  },
  {
   "cell_type": "code",
   "execution_count": 14,
   "metadata": {},
   "outputs": [
    {
     "data": {
      "text/plain": [
       "author          897\n",
       "author_type       5\n",
       "location         15\n",
       "district        175\n",
       "street          922\n",
       "house_number    667\n",
       "underground     214\n",
       "dtype: int64"
      ]
     },
     "execution_count": 14,
     "metadata": {},
     "output_type": "execute_result"
    }
   ],
   "source": [
    "data_train.select_dtypes(object).nunique()"
   ]
  },
  {
   "cell_type": "code",
   "execution_count": 15,
   "metadata": {},
   "outputs": [],
   "source": [
    "# columns = ['street']  # 'house_number', 'author', 'street', \n",
    "# data_train.drop(columns=columns, inplace=True)\n",
    "# data_test.drop(columns=columns, inplace=True)"
   ]
  },
  {
   "cell_type": "code",
   "execution_count": 16,
   "metadata": {},
   "outputs": [
    {
     "name": "stdout",
     "output_type": "stream",
     "text": [
      "author_type ['real_estate_agent' nan 'realtor' 'homeowner' 'unknown'\n",
      " 'official_representative']\n",
      "\n",
      "---------------------------------------------------------------------------\n",
      "\n",
      "location ['Смоленск' 'Подольск' 'Иваново' 'Казань' nan 'Люберцы' 'Калуга' 'Москва'\n",
      " 'Рязань' 'Кашира' 'Брянск' 'Владимир' 'Киров' 'Великий Новгород'\n",
      " 'Долгопрудный' 'Реутов']\n",
      "\n",
      "---------------------------------------------------------------------------\n",
      "\n",
      "floor [15.  1.  5. nan 21.  3.  6. 18.  2. 16.  7. 11. 23. 12. 13.  4. 10. 14.\n",
      "  9.  8. 44. 17. 28. 19. 31. 41. 24. 46. 22. 20. 25. 60. 26. 37. 36. 33.\n",
      " 30. 65. 76. 67. 29. 42. 27. 53. 45. 32. 58. 49. 56. 50.]\n",
      "\n",
      "---------------------------------------------------------------------------\n",
      "\n",
      "floors_count [19.  3. 32.  5.  8. 25. nan  9. 20.  6. 17.  7.  2. 16. 22. 24. 12. 10.\n",
      " 23.  4. 27. 11. 14. 15. 48. 13. 18. 31. 30. 78. 33. 26. 75. 77. 47. 40.\n",
      " 68. 28. 29. 21. 53. 38. 62. 44. 95.  1. 34. 35. 79. 65. 43. 42. 36. 52.\n",
      " 61. 69. 37.]\n",
      "\n",
      "---------------------------------------------------------------------------\n",
      "\n",
      "rooms_count [ 1.  2. nan  3.  5.  4.]\n",
      "\n",
      "---------------------------------------------------------------------------\n",
      "\n",
      "district ['Ленинский' 'мкр. Силикатная' 'Дорогомилово' 'Московский' nan\n",
      " 'Приволжский' 'Первореченский' 'Фрунзенский' 'Ново-Савиновский'\n",
      " 'Замоскворечье' 'мкр. 30-й' 'Советский' 'д. Павловское' 'Фокинский'\n",
      " 'мкр. Северный' 'Некрасовка' 'Бежицкий' 'Кунцево' 'Октябрьский'\n",
      " 'Промышленный' 'Басманный' 'Тверской' 'Арбат' 'Вахитовский' 'Кировский'\n",
      " 'Соколиная гора' 'с. Красный Путь' 'Печатники' 'Великий Новгород'\n",
      " 'Бескудниковский' 'Якиманка' 'Хорошево-Мневники' 'Таганский'\n",
      " 'д. Пирогово' 'Железнодорожный' 'Первомайский' 'Раменки' 'Красносельский'\n",
      " 'Пресненский' 'Алексеевский' 'Богородское' 'Нижегородский' 'Хамовники'\n",
      " 'Очаково-Матвеевское' 'Хостинский' 'Савёлки' 'Район Софийская сторона'\n",
      " 'Ступино' 'Володарский' 'Сокольники' 'мкр. Правобережье' 'Адмиралтейский'\n",
      " 'мкр. Тайфун' 'Вязьма' 'Донской' 'Гольяново' 'Войковский' 'Центральный'\n",
      " 'Бутырский' 'Хорошевский' 'Западное Дегунино' 'Покровское-Стрешнево'\n",
      " 'Беговой' 'Нагатино-Садовники' 'Орехово-Борисово Южное'\n",
      " 'Проспект Вернадского' 'Адлерский' 'Южная Битца ЖК' 'Косино-Ухтомский'\n",
      " 'Заднепровский' 'Щукино' 'Люблино' 'Ломоносовский' 'Ростокино' 'Коньково'\n",
      " 'Академический' 'Чертаново Южное' 'Левобережный' 'Лопатино рп'\n",
      " 'мкр. Кошелев' 'Даниловский' 'Мещанский' 'Выборгский' 'Авиастроительный'\n",
      " 'Марьина роща' 'Черемушки' 'Метрогородок' 'Ховрино' 'Фили-Давыдково'\n",
      " 'Лефортово' 'Южное Бутово' 'мкр. Анненки' 'мкр. Барыбино' 'мкр. Байконур'\n",
      " 'Бибирево' 'Крюково' 'Бабушкинский' 'Котловка' 'Головинский'\n",
      " 'Филевский парк' 'Приморский' 'Северный' 'Савеловский' 'Перово'\n",
      " 'Крылатское' 'Южнопортовый' 'Анапа' 'Нагорный' 'мкр. Текстильщик'\n",
      " 'Останкинский' 'мкр. Калуга-2' 'Царицыно' 'Нагатинский затон'\n",
      " 'Орехово-Борисово Северное' 'мкр. Солнечный' 'Снегири дп' 'Солнцево'\n",
      " 'мкр. Панки' 'мкр. Силикатный' 'мкр. Холодильник' 'Вешняки' 'пос. Битца'\n",
      " 'Марьино' 'мкр. Новые Черемушки' 'Боброво рп' 'Рязанский' 'Дрожжино рп'\n",
      " 'Петроградский' 'мкр. Новостройка' 'Обручевский' 'Заповедное Озеро кп'\n",
      " 'д. Мисайлово' 'Строгино' 'Кашира' 'Аэропорт'\n",
      " 'Велтон Парк Новая Сходня мкр' 'мкр. Секиотово' 'Братеево' 'Зябликово'\n",
      " 'Можайский' 'Сокол' 'Ясенево' 'Городок Нефтяников мкр' 'Орехово-Зуево'\n",
      " 'Нововятский' 'Пушкинский' 'Южное Медведково' 'Отрадное'\n",
      " 'мкр. Хрустальный' 'Куркино' 'мкр. Малиновка' 'Текстильщики' 'д. Горки'\n",
      " 'Электрогорск' 'Ивановское' 'Выхино-Жулебино' 'Тимирязевский'\n",
      " 'мкр. Турынино' 'Дмитровский' 'пос. Ильинское-Усово' 'д. Алтуховка'\n",
      " 'Район Торговая сторона' 'Невский' 'мкр. Хороший' 'д. Путилково' 'Митино'\n",
      " 'пос. Дубровский' 'Прикубанский' 'пос. Развилка' 'Лианозово' 'Зюзино'\n",
      " 'Кузьминки' 'д. Старая Руза' 'Торговая сторона' 'Гагаринский'\n",
      " 'Тропарево-Никулино']\n",
      "\n",
      "---------------------------------------------------------------------------\n",
      "\n"
     ]
    }
   ],
   "source": [
    "for column in data_train.columns[data_train.nunique() <= 200]:\n",
    "    print(column, data_train[column].unique(), end='\\n'*2+'-'*75+'\\n'*2)"
   ]
  },
  {
   "cell_type": "code",
   "execution_count": 17,
   "metadata": {},
   "outputs": [],
   "source": [
    "# data_train.drop(columns=['district', 'underground'], inplace=True)\n",
    "# data_test.drop(columns=['district', 'underground'], inplace=True)\n",
    "for column in data_test.columns:\n",
    "    col = data_train[column]\n",
    "    col_test = data_test[column]\n",
    "    if pd.api.types.is_object_dtype(col):\n",
    "        data_train[column].fillna('unknown11', inplace=True)\n",
    "        data_test[column].fillna('unknown11', inplace=True)\n",
    "    elif pd.api.types.is_numeric_dtype(col):\n",
    "        data_train[column].fillna(col.mean(), inplace=True)\n",
    "        data_test[column].fillna(col_test.mean(), inplace=True)"
   ]
  },
  {
   "cell_type": "code",
   "execution_count": 18,
   "metadata": {},
   "outputs": [
    {
     "data": {
      "text/plain": [
       "0"
      ]
     },
     "execution_count": 18,
     "metadata": {},
     "output_type": "execute_result"
    }
   ],
   "source": [
    "data_train.isna().sum().sum()"
   ]
  },
  {
   "cell_type": "code",
   "execution_count": 19,
   "metadata": {},
   "outputs": [],
   "source": [
    "target = 'price_per_month'"
   ]
  },
  {
   "cell_type": "code",
   "execution_count": 20,
   "metadata": {},
   "outputs": [],
   "source": [
    "X, y = data_train.drop(columns=['ID', target]), data_train[target]\n",
    "X_train, X_test, y_train, y_test = train_test_split(X, y, test_size=0.2, random_state=seed)  # 0.1\n",
    "X_test_final = data_test.drop(columns=['ID'])"
   ]
  },
  {
   "cell_type": "code",
   "execution_count": 21,
   "metadata": {},
   "outputs": [],
   "source": [
    "numeric_features = X.select_dtypes(include=np.number).columns\n",
    "numeric_transformer = StandardScaler()\n",
    "\n",
    "categorical_features = X.select_dtypes(include=object).columns\n",
    "categorical_transformer = OneHotEncoder(handle_unknown='ignore')\n",
    "\n",
    "preprocessor = ColumnTransformer(\n",
    "    transformers=[\n",
    "        ('num', numeric_transformer, numeric_features),\n",
    "        ('cat', categorical_transformer, categorical_features)\n",
    "    ]\n",
    ")"
   ]
  },
  {
   "cell_type": "code",
   "execution_count": 22,
   "metadata": {},
   "outputs": [],
   "source": [
    "X_train_transformed = preprocessor.fit_transform(X_train)\n",
    "X_test_transformed = preprocessor.transform(X_test)\n",
    "X_test_final_transformed = preprocessor.transform(X_test_final)"
   ]
  },
  {
   "cell_type": "code",
   "execution_count": 23,
   "metadata": {},
   "outputs": [],
   "source": [
    "model = nn.Sequential(\n",
    "    nn.Linear(X_train_transformed.shape[1], 256),\n",
    "    nn.ReLU(),\n",
    "    nn.Linear(256, 128),\n",
    "    nn.ReLU(),\n",
    "    nn.Linear(128, 1)\n",
    ")\n",
    "optimizer = optim.Adam(model.parameters())  # , lr=5e-5\n",
    "criterion = nn.L1Loss()"
   ]
  },
  {
   "cell_type": "code",
   "execution_count": null,
   "metadata": {},
   "outputs": [],
   "source": []
  },
  {
   "cell_type": "code",
   "execution_count": 24,
   "metadata": {},
   "outputs": [],
   "source": [
    "# dataset_train = TensorDataset(th.tensor(X_train_transformed.toarray()).float(), th.tensor(y_train.values).float())\n",
    "# dataset_test = TensorDataset(th.tensor(X_test_transformed.toarray()).float(), th.tensor(y_test.values).float())\n",
    "# dataloader_train = DataLoader(dataset_train, batch_size=32, shuffle=True)\n",
    "# dataloader_test = DataLoader(dataset_test, batch_size=32, shuffle=True)"
   ]
  },
  {
   "cell_type": "code",
   "execution_count": 25,
   "metadata": {},
   "outputs": [],
   "source": [
    "# for epoch in range(300):\n",
    "#     model.train()\n",
    "#     for X_batch, y_batch in dataloader_train:\n",
    "#         y_pred = model(X_batch).squeeze()\n",
    "#         loss = criterion(y_pred, y_batch)\n",
    "#         optimizer.zero_grad()\n",
    "#         loss.backward()\n",
    "#         optimizer.step()\n",
    "\n",
    "#     model.eval()\n",
    "#     with th.no_grad():\n",
    "#         losses = []\n",
    "#         for X_batch, y_batch in dataloader_test:\n",
    "#             y_pred = model(X_batch).squeeze()\n",
    "#             loss = criterion(y_pred, y_batch)\n",
    "#             losses.append(loss.item())\n",
    "\n",
    "#         if epoch % 100 == 0:\n",
    "#             print(f'Epoch {epoch}, loss: {np.mean(losses)}')"
   ]
  },
  {
   "cell_type": "code",
   "execution_count": 26,
   "metadata": {},
   "outputs": [
    {
     "data": {
      "text/plain": [
       "(1968, 2560)"
      ]
     },
     "execution_count": 26,
     "metadata": {},
     "output_type": "execute_result"
    }
   ],
   "source": [
    "X_train_transformed.shape"
   ]
  },
  {
   "cell_type": "code",
   "execution_count": 27,
   "metadata": {},
   "outputs": [
    {
     "name": "stdout",
     "output_type": "stream",
     "text": [
      "Используется устройство: cpu\n",
      "Epoch 1 | Train Loss: 48606585589.8537 | Val Loss: 50810583225.8064 | R2: 0.2955\n",
      "Epoch 10 | Train Loss: 6881699913.3659 | Val Loss: 10108723600.2581 | R2: 0.8594\n",
      "Epoch 20 | Train Loss: 2569835940.7561 | Val Loss: 8342939183.6129 | R2: 0.8841\n",
      "Epoch 30 | Train Loss: 582925343.4827 | Val Loss: 7488802494.3226 | R2: 0.8963\n",
      "Epoch 40 | Train Loss: 215634194.4121 | Val Loss: 6835530153.2903 | R2: 0.9056\n",
      "Epoch 50 | Train Loss: 85361257.6504 | Val Loss: 7027290046.0645 | R2: 0.9026\n",
      "Epoch 60 | Train Loss: 72797924.7867 | Val Loss: 6986987081.6774 | R2: 0.9032\n",
      "Epoch 70 | Train Loss: 71298505.2620 | Val Loss: 6985228551.1613 | R2: 0.9032\n",
      "\n",
      "Ранняя остановка после 71 эпох без улучшений.\n",
      "Лучшая модель загружена.\n",
      "Финальный коэффициент детерминации R^2 на валидационном наборе: 0.903208\n",
      "Лучший r2: 0.905476\n"
     ]
    }
   ],
   "source": [
    "# Определение устройства\n",
    "device = th.device('cuda' if th.cuda.is_available() else 'cpu')\n",
    "print(f'Используется устройство: {device}')\n",
    "\n",
    "# Перенос модели на устройство\n",
    "model = nn.Sequential(\n",
    "    nn.Linear(X_train_transformed.shape[1], 256),\n",
    "    nn.ReLU(),\n",
    "    nn.Linear(256, 256),\n",
    "    nn.ReLU(),\n",
    "    nn.Linear(256, 128),\n",
    "    nn.ReLU(),\n",
    "    nn.Linear(128, 64),\n",
    "    nn.ReLU(),\n",
    "    nn.Linear(64, 64),\n",
    "    nn.ReLU(),\n",
    "    nn.Linear(64, 1),\n",
    ").to(device)\n",
    "\n",
    "optimizer = optim.Adam(model.parameters(), lr=5e-4)  # Настройка скорости обучения\n",
    "criterion = nn.MSELoss()\n",
    "\n",
    "# Создание TensorDataset и DataLoader\n",
    "dataset_train = TensorDataset(th.tensor(X_train_transformed.toarray()).float(), th.tensor(y_train.values).float())\n",
    "dataset_val = TensorDataset(th.tensor(X_test_transformed.toarray()).float(), th.tensor(y_test.values).float())\n",
    "\n",
    "dataloader_train = DataLoader(dataset_train, batch_size=8, shuffle=True)\n",
    "dataloader_val = DataLoader(dataset_val, batch_size=8, shuffle=False)\n",
    "\n",
    "# Планировщик скорости обучения\n",
    "scheduler = optim.lr_scheduler.ReduceLROnPlateau(optimizer, mode='min', factor=0.1, patience=10)\n",
    "\n",
    "# Параметры для раннего прекращения\n",
    "patience = 40\n",
    "best_val_loss = np.inf\n",
    "epochs_no_improve = 0\n",
    "best_model_state = None\n",
    "best_r2 = -np.inf\n",
    "\n",
    "num_epochs = 2000\n",
    "\n",
    "for epoch in range(1, num_epochs + 1):\n",
    "    # Обучение\n",
    "    model.train()\n",
    "    train_losses = []\n",
    "    for X_batch, y_batch in dataloader_train:\n",
    "        X_batch = X_batch.to(device)\n",
    "        y_batch = y_batch.to(device)\n",
    "        \n",
    "        optimizer.zero_grad()\n",
    "        y_pred = model(X_batch).flatten()\n",
    "        loss = criterion(y_pred, y_batch)\n",
    "        loss.backward()\n",
    "        optimizer.step()\n",
    "        \n",
    "        train_losses.append(loss.item())\n",
    "    \n",
    "    avg_train_loss = np.mean(train_losses)\n",
    "    \n",
    "    # Валидация\n",
    "    model.eval()\n",
    "    val_losses = []\n",
    "    all_preds = []\n",
    "    all_targets = []\n",
    "    \n",
    "    with th.no_grad():\n",
    "        for X_batch, y_batch in dataloader_val:\n",
    "            X_batch = X_batch.to(device)\n",
    "            y_batch = y_batch.to(device)\n",
    "            \n",
    "            y_pred = model(X_batch).flatten()\n",
    "            loss = criterion(y_pred, y_batch)\n",
    "            val_losses.append(loss.item())\n",
    "            \n",
    "            all_preds.append(y_pred.cpu().numpy())\n",
    "            all_targets.append(y_batch.cpu().numpy())\n",
    "    \n",
    "    avg_val_loss = np.mean(val_losses)\n",
    "    all_preds = np.concatenate(all_preds)\n",
    "    all_targets = np.concatenate(all_targets)\n",
    "    r2 = r2_score(all_targets, all_preds)\n",
    "    \n",
    "    # Планировщик\n",
    "    scheduler.step(avg_val_loss)\n",
    "    \n",
    "    # Проверка на улучшение\n",
    "    if avg_val_loss < best_val_loss:\n",
    "        best_val_loss = avg_val_loss\n",
    "        best_r2 = r2\n",
    "        epochs_no_improve = 0\n",
    "        best_model_state = model.state_dict()\n",
    "    else:\n",
    "        epochs_no_improve += 1\n",
    "    \n",
    "    # Вывод информации\n",
    "    if epoch % 10 == 0 or epoch == 1:\n",
    "        print(f'Epoch {epoch} | Train Loss: {avg_train_loss:.4f} | Val Loss: {avg_val_loss:.4f} | R2: {r2:.4f}')\n",
    "    \n",
    "    # Раннее прекращение\n",
    "    if epochs_no_improve >= patience:\n",
    "        print(f'\\nРанняя остановка после {epoch} эпох без улучшений.')\n",
    "        break\n",
    "\n",
    "# Загрузка лучшей модели\n",
    "if best_model_state is not None:\n",
    "    model.load_state_dict(best_model_state)\n",
    "    print('Лучшая модель загружена.')\n",
    "\n",
    "# Вычисление финального R2 на валидационном наборе\n",
    "model.eval()\n",
    "all_preds = []\n",
    "all_targets = []\n",
    "\n",
    "with th.no_grad():\n",
    "    for X_batch, y_batch in dataloader_val:\n",
    "        X_batch = X_batch.to(device)\n",
    "        y_batch = y_batch.to(device)\n",
    "        y_pred = model(X_batch).squeeze()\n",
    "        all_preds.append(np.atleast_1d(y_pred.cpu().numpy()))\n",
    "        all_targets.append(np.atleast_1d(y_batch.cpu().numpy()))\n",
    "\n",
    "\n",
    "all_preds = np.concatenate(all_preds)\n",
    "all_targets = np.concatenate(all_targets)\n",
    "\n",
    "final_r2 = r2_score(all_targets, all_preds)\n",
    "print(f'Финальный коэффициент детерминации R^2 на валидационном наборе: {final_r2:.6f}')\n",
    "print(f'Лучший r2: {best_r2:.6f}')"
   ]
  },
  {
   "cell_type": "code",
   "execution_count": null,
   "metadata": {},
   "outputs": [],
   "source": []
  },
  {
   "cell_type": "code",
   "execution_count": 28,
   "metadata": {},
   "outputs": [],
   "source": [
    "# Предсказание на X_test_final\n",
    "model.eval()\n",
    "test_preds = []\n",
    "\n",
    "with th.no_grad():\n",
    "    # Преобразование данных теста в Tensor и перенос на устройство\n",
    "    X_test_final_tensor = th.tensor(X_test_final_transformed.toarray()).float().to(device)\n",
    "    \n",
    "    # Получение предсказаний\n",
    "    y_test_pred = model(X_test_final_tensor).squeeze()\n",
    "    \n",
    "    # Перевод предсказаний на CPU и в numpy\n",
    "    test_preds = y_test_pred.cpu().numpy()\n",
    "\n",
    "# Предполагается, что у вас сохранен столбец 'ID' из исходного data_test до его удаления\n",
    "# Например, до удаления 'ID':\n",
    "# test_ids = pd.read_csv('./rent-prediction/test.csv')['ID']\n",
    "\n",
    "# Создание DataFrame с ID и предсказанными ценами\n",
    "submission_df = pd.DataFrame({\n",
    "    'ID': data_test['ID'],  # Замените 'test_ids' на вашу переменную с ID\n",
    "    'price_per_month': test_preds\n",
    "})\n",
    "\n",
    "# Сохранение в CSV файл\n",
    "submission_df.to_csv('submission.csv', index=False)"
   ]
  },
  {
   "cell_type": "code",
   "execution_count": null,
   "metadata": {},
   "outputs": [],
   "source": []
  }
 ],
 "metadata": {
  "kernelspec": {
   "display_name": ".venv",
   "language": "python",
   "name": "python3"
  },
  "language_info": {
   "codemirror_mode": {
    "name": "ipython",
    "version": 3
   },
   "file_extension": ".py",
   "mimetype": "text/x-python",
   "name": "python",
   "nbconvert_exporter": "python",
   "pygments_lexer": "ipython3",
   "version": "3.12.7"
  }
 },
 "nbformat": 4,
 "nbformat_minor": 2
}
